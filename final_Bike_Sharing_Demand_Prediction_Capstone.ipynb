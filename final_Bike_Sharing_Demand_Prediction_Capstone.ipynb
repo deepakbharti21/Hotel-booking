{
  "nbformat": 4,
  "nbformat_minor": 0,
  "metadata": {
    "colab": {
      "private_outputs": true,
      "provenance": [],
      "collapsed_sections": [
        "vncDsAP0Gaoa",
        "FJNUwmbgGyua",
        "w6K7xa23Elo4",
        "yQaldy8SH6Dl",
        "PH-0ReGfmX4f",
        "mDgbUHAGgjLW",
        "O_i_v8NEhb9l",
        "HhfV-JJviCcP",
        "Y3lxredqlCYt",
        "3RnN4peoiCZX",
        "x71ZqKXriCWQ",
        "7hBIi_osiCS2",
        "JlHwYmJAmNHm",
        "35m5QtbWiB9F",
        "PoPl-ycgm1ru",
        "H0kj-8xxnORC",
        "nA9Y7ga8ng1Z",
        "PBTbrJXOngz2",
        "u3PMJOP6ngxN",
        "dauF4eBmngu3",
        "bKJF3rekwFvQ",
        "MSa1f5Uengrz",
        "GF8Ens_Soomf",
        "0wOQAZs5pc--",
        "K5QZ13OEpz2H",
        "lQ7QKXXCp7Bj",
        "448CDAPjqfQr",
        "KSlN3yHqYklG",
        "t6dVpIINYklI",
        "ijmpgYnKYklI",
        "-JiQyfWJYklI",
        "EM7whBJCYoAo",
        "fge-S5ZAYoAp",
        "85gYPyotYoAp",
        "RoGjAbkUYoAp",
        "4Of9eVA-YrdM",
        "iky9q4vBYrdO",
        "F6T5p64dYrdO",
        "y-Ehk30pYrdP",
        "bamQiAODYuh1",
        "QHF8YVU7Yuh3",
        "GwzvFGzlYuh3",
        "qYpmQ266Yuh3",
        "OH-pJp9IphqM",
        "bbFf2-_FphqN",
        "_ouA3fa0phqN",
        "Seke61FWphqN",
        "PIIx-8_IphqN",
        "t27r6nlMphqO",
        "r2jJGEOYphqO",
        "b0JNsNcRphqO",
        "BZR9WyysphqO",
        "jj7wYXLtphqO",
        "eZrbJ2SmphqO",
        "rFu4xreNphqO",
        "YJ55k-q6phqO",
        "gCFgpxoyphqP",
        "OVtJsKN_phqQ",
        "lssrdh5qphqQ",
        "U2RJ9gkRphqQ",
        "1M8mcRywphqQ",
        "tgIPom80phqQ",
        "JMzcOPDDphqR",
        "x-EpHcCOp1ci",
        "X_VqEhTip1ck",
        "8zGJKyg5p1ck",
        "PVzmfK_Ep1ck",
        "n3dbpmDWp1ck",
        "ylSl6qgtp1ck",
        "ZWILFDl5p1ck",
        "M7G43BXep1ck",
        "Ag9LCva-p1cl",
        "E6MkPsBcp1cl",
        "2cELzS2fp1cl",
        "3MPXvC8up1cl",
        "NC_X3p0fY2L0",
        "UV0SzAkaZNRQ",
        "YPEH6qLeZNRQ",
        "q29F0dvdveiT",
        "EXh0U9oCveiU",
        "22aHeOlLveiV",
        "JcMwzZxoAimU",
        "8G2x9gOozGDZ",
        "gCX9965dhzqZ",
        "gIfDvo9L0UH2"
      ],
      "include_colab_link": true
    },
    "kernelspec": {
      "name": "python3",
      "display_name": "Python 3"
    },
    "language_info": {
      "name": "python"
    }
  },
  "cells": [
    {
      "cell_type": "markdown",
      "metadata": {
        "id": "view-in-github",
        "colab_type": "text"
      },
      "source": [
        "<a href=\"https://colab.research.google.com/github/deepakbharti21/Hotel-booking/blob/main/final_Bike_Sharing_Demand_Prediction_Capstone.ipynb\" target=\"_parent\"><img src=\"https://colab.research.google.com/assets/colab-badge.svg\" alt=\"Open In Colab\"/></a>"
      ]
    },
    {
      "cell_type": "markdown",
      "source": [
        "# **Bike_Sharing_Demand_Prediction_Capstonee**\n",
        "\n"
      ],
      "metadata": {
        "id": "vncDsAP0Gaoa"
      }
    },
    {
      "cell_type": "markdown",
      "source": [
        "##### **Project Type**    - EDA/Regression/Classification/Unsupervised\n",
        "##### **Contribution**    - Individual/Team"
      ],
      "metadata": {
        "id": "beRrZCGUAJYm"
      }
    },
    {
      "cell_type": "markdown",
      "source": [
        "# **Project Summary -**"
      ],
      "metadata": {
        "id": "FJNUwmbgGyua"
      }
    },
    {
      "cell_type": "markdown",
      "source": [
        "*  This project aims to enhance the mobility and convenience of the public through bike-sharing programs in metropolitan areas. \n",
        "\n",
        "*  One of the main challenges is maintaining a consistent supply of bikes for rental. \n",
        "\n",
        "*  Bike-sharing systems are automated and enable people to rent and return bikes at various locations. The project focuses on utilizing historical data on factors such as temperature and time to predict the demand for the bike-sharing program in Seoul.\n",
        "\n",
        "*  There were approximately 8760 records and 14 attributes in the dataset.\n",
        "We started by importing the dataset, and necessary libraries and conducted exploratory data analysis (EDA).\n",
        "\n",
        "*  Outliers and null values were removed from the raw data and treated. Data were transformed to ensure that it was compatible with machine learning models.\n",
        "\n",
        "*  We handled target class imbalance using square root normalization.\n",
        "\n",
        "*  Then finally cleaned and scaled data was sent to 11 various models, the metrics were made to evaluate the model, and we tuned the hyperparameters to make sure the right parameters were being passed to the model.\n",
        "\n",
        "*  When developing a machine learning model, it is generally recommended to track multiple metrics because each one highlights distinct aspects of model performance. We are, focusing more on the R2 score and RMSE score.\n",
        "\n",
        "*  The R2 score is scale-independent, which means that it can be used to compare models that are fit to different target variables or to target variables that have different units of measurement. \n",
        "\n",
        "*  This is particularly useful when comparing models for different problems, as it allows for a direct comparison of the performance of the models, regardless of the scale of the target variable"
      ],
      "metadata": {
        "id": "F6v_1wHtG2nS"
      }
    },
    {
      "cell_type": "markdown",
      "source": [
        "# **GitHub Link -**"
      ],
      "metadata": {
        "id": "w6K7xa23Elo4"
      }
    },
    {
      "cell_type": "markdown",
      "source": [
        "Provide your GitHub Link here."
      ],
      "metadata": {
        "id": "h1o69JH3Eqqn"
      }
    },
    {
      "cell_type": "markdown",
      "source": [
        "# **Problem Statement**\n"
      ],
      "metadata": {
        "id": "yQaldy8SH6Dl"
      }
    },
    {
      "cell_type": "markdown",
      "source": [
        "Many metropolitan areas now offer bike rentals to improve mobility and convenience. Ensuring timely access to rental bikes is critical to reducing wait times for the public, making a consistent supply of rental bikes a major concern. The expected hourly bicycle count is particularly crucial in this regard.\n",
        "\n",
        "Bike sharing systems automate membership, rentals, and bike returns through a network of locations. Individuals can rent bikes from one location and return them to another or the same location, as needed. Membership or request facilitates bike rentals, and the process is overseen by a citywide network of automated stores.\n",
        "\n",
        "This dataset aims to predict the demand for Seoul's Bike Sharing Program based on historical usage patterns, including temperature, time, and other data."
      ],
      "metadata": {
        "id": "DpeJGUA3kjGy"
      }
    },
    {
      "cell_type": "markdown",
      "source": [
        "#### **Define Your Business Objective?**"
      ],
      "metadata": {
        "id": "PH-0ReGfmX4f"
      }
    },
    {
      "cell_type": "markdown",
      "source": [
        "\n",
        "Estimating the number of required bikes at any given time and day is a critical business concern. Having fewer bikes results in resource wastage (in terms of bike maintenance and the land/bike stand required for parking and security), while having more bikes can lead to revenue loss, ranging from immediate loss due to a lower number of customers to potential long-term loss due to a loss of future customers. Therefore, it is essential for bike rental businesses to have an estimate of demand to function effectively."
      ],
      "metadata": {
        "id": "PhDvGCAqmjP1"
      }
    },
    {
      "cell_type": "markdown",
      "source": [
        "# **General Guidelines** : -  "
      ],
      "metadata": {
        "id": "mDgbUHAGgjLW"
      }
    },
    {
      "cell_type": "markdown",
      "source": [
        "1.   Well-structured, formatted, and commented code is required. \n",
        "2.   Exception Handling, Production Grade Code & Deployment Ready Code will be a plus. Those students will be awarded some additional credits. \n",
        "     \n",
        "     The additional credits will have advantages over other students during Star Student selection.\n",
        "       \n",
        "             [ Note: - Deployment Ready Code is defined as, the whole .ipynb notebook should be executable in one go\n",
        "                       without a single error logged. ]\n",
        "\n",
        "3.   Each and every logic should have proper comments.\n",
        "4. You may add as many number of charts you want. Make Sure for each and every chart the following format should be answered.\n",
        "        \n",
        "\n",
        "```\n",
        "# Chart visualization code\n",
        "```\n",
        "            \n",
        "\n",
        "*   Why did you pick the specific chart?\n",
        "*   What is/are the insight(s) found from the chart?\n",
        "* Will the gained insights help creating a positive business impact? \n",
        "Are there any insights that lead to negative growth? Justify with specific reason.\n",
        "\n",
        "5. You have to create at least 20 logical & meaningful charts having important insights.\n",
        "\n",
        "\n",
        "[ Hints : - Do the Vizualization in  a structured way while following \"UBM\" Rule. \n",
        "\n",
        "U - Univariate Analysis,\n",
        "\n",
        "B - Bivariate Analysis (Numerical - Categorical, Numerical - Numerical, Categorical - Categorical)\n",
        "\n",
        "M - Multivariate Analysis\n",
        " ]\n",
        "\n",
        "\n",
        "\n"
      ],
      "metadata": {
        "id": "ZrxVaUj-hHfC"
      }
    },
    {
      "cell_type": "markdown",
      "source": [
        "# ***Let's Begin !***"
      ],
      "metadata": {
        "id": "O_i_v8NEhb9l"
      }
    },
    {
      "cell_type": "markdown",
      "source": [
        "## ***1. Know Your Data***"
      ],
      "metadata": {
        "id": "HhfV-JJviCcP"
      }
    },
    {
      "cell_type": "markdown",
      "source": [
        "### Import Libraries"
      ],
      "metadata": {
        "id": "Y3lxredqlCYt"
      }
    },
    {
      "cell_type": "code",
      "source": [
        "# Import Libraries\n",
        "# Import Libraries and modules\n",
        "\n",
        "# libraries that are used for analysis and visualization\n",
        "import pandas as pd\n",
        "import numpy as np\n",
        "import matplotlib.pyplot as plt\n",
        "%matplotlib inline\n",
        "import seaborn as sns\n",
        "\n",
        "# to import datetime library\n",
        "from datetime import datetime\n",
        "import datetime as dt\n",
        "\n",
        "# libraries used to pre-process \n",
        "from sklearn import preprocessing, linear_model\n",
        "from sklearn.preprocessing import StandardScaler\n",
        "from sklearn.preprocessing import OneHotEncoder\n",
        "from sklearn.model_selection import train_test_split\n",
        "\n",
        "\n",
        "# libraries used to implement models\n",
        "from sklearn.linear_model import LinearRegression, Ridge, Lasso, ElasticNet\n",
        "from sklearn.neighbors import KNeighborsRegressor\n",
        "from sklearn.tree import DecisionTreeRegressor\n",
        "from sklearn.ensemble import RandomForestRegressor, ExtraTreesRegressor, GradientBoostingRegressor, AdaBoostRegressor\n",
        "from sklearn.svm import SVR\n",
        "from xgboost import XGBRegressor\n",
        "from lightgbm import LGBMRegressor\n",
        "from sklearn.model_selection import GridSearchCV, RandomizedSearchCV\n",
        "\n",
        "# libraries to evaluate performance\n",
        "from sklearn import metrics\n",
        "from sklearn.metrics import mean_squared_error, r2_score, accuracy_score, mean_absolute_error\n",
        "\n",
        "# Library of warnings would assist in ignoring warnings issued\n",
        "import warnings\n",
        "warnings.filterwarnings('ignore')\n",
        "\n",
        "# to set max column display\n",
        "pd.pandas.set_option('display.max_columns',None)\n"
      ],
      "metadata": {
        "id": "M8Vqi-pPk-HR"
      },
      "execution_count": null,
      "outputs": []
    },
    {
      "cell_type": "markdown",
      "source": [
        "### Dataset Loading"
      ],
      "metadata": {
        "id": "3RnN4peoiCZX"
      }
    },
    {
      "cell_type": "code",
      "source": [
        "# Load Dataset\n",
        "# let's mount the google drive first\n",
        "from google.colab import drive\n",
        "drive.mount('/content/drive')"
      ],
      "metadata": {
        "id": "4CkvbW_SlZ_R"
      },
      "execution_count": null,
      "outputs": []
    },
    {
      "cell_type": "code",
      "source": [
        "# Load Dataset\n",
        "bike_df = pd.read_csv('/content/drive/MyDrive/AlmaBetter/Module 3/SeoulBikeData.csv',encoding= 'unicode_escape') #data file from dive\n"
      ],
      "metadata": {
        "id": "o0KSANAWrXn7"
      },
      "execution_count": null,
      "outputs": []
    },
    {
      "cell_type": "markdown",
      "source": [
        "### Dataset First View"
      ],
      "metadata": {
        "id": "x71ZqKXriCWQ"
      }
    },
    {
      "cell_type": "code",
      "source": [
        "# Dataset First Look\n",
        "bike_df.head()"
      ],
      "metadata": {
        "id": "LWNFOSvLl09H"
      },
      "execution_count": null,
      "outputs": []
    },
    {
      "cell_type": "markdown",
      "source": [
        "### Dataset Rows & Columns count"
      ],
      "metadata": {
        "id": "7hBIi_osiCS2"
      }
    },
    {
      "cell_type": "code",
      "source": [
        "# Dataset Rows & Columns count\n",
        "bike_df.shape"
      ],
      "metadata": {
        "id": "Kllu7SJgmLij"
      },
      "execution_count": null,
      "outputs": []
    },
    {
      "cell_type": "markdown",
      "source": [
        "### Dataset Information"
      ],
      "metadata": {
        "id": "JlHwYmJAmNHm"
      }
    },
    {
      "cell_type": "code",
      "source": [
        "# Dataset Info\n",
        "print(f'number of rows : {bike_df.shape[0]}  \\nnumber of columns : {bike_df.shape[1]}')"
      ],
      "metadata": {
        "id": "e9hRXRi6meOf"
      },
      "execution_count": null,
      "outputs": []
    },
    {
      "cell_type": "code",
      "source": [
        "bike_df.describe()\n"
      ],
      "metadata": {
        "id": "vEGlpsQpu6-7"
      },
      "execution_count": null,
      "outputs": []
    },
    {
      "cell_type": "code",
      "source": [
        "bike_df.columns\n"
      ],
      "metadata": {
        "id": "XER32zQ-u66K"
      },
      "execution_count": null,
      "outputs": []
    },
    {
      "cell_type": "code",
      "source": [
        "df1 = bike_df.copy()"
      ],
      "metadata": {
        "id": "kdYleNcku61p"
      },
      "execution_count": null,
      "outputs": []
    },
    {
      "cell_type": "code",
      "source": [
        "df1['Date'].unique()"
      ],
      "metadata": {
        "id": "CO3CZDa8u6xh"
      },
      "execution_count": null,
      "outputs": []
    },
    {
      "cell_type": "code",
      "source": [
        "df1['Rented Bike Count'].unique()\n"
      ],
      "metadata": {
        "id": "3qSkWkNSu6oc"
      },
      "execution_count": null,
      "outputs": []
    },
    {
      "cell_type": "code",
      "source": [
        "df1['Hour'].unique()\n"
      ],
      "metadata": {
        "id": "Sc5LdChKu6kM"
      },
      "execution_count": null,
      "outputs": []
    },
    {
      "cell_type": "code",
      "source": [
        "df1['Solar Radiation (MJ/m2)'].unique()\n"
      ],
      "metadata": {
        "id": "76cDmMFJu6f2"
      },
      "execution_count": null,
      "outputs": []
    },
    {
      "cell_type": "code",
      "source": [
        "df1['Dew point temperature(°C)'].unique()\n"
      ],
      "metadata": {
        "id": "fENCdDdyu6a3"
      },
      "execution_count": null,
      "outputs": []
    },
    {
      "cell_type": "code",
      "source": [
        "df1['Visibility (10m)'].unique()\n"
      ],
      "metadata": {
        "id": "2CBPoQP_u6V0"
      },
      "execution_count": null,
      "outputs": []
    },
    {
      "cell_type": "code",
      "source": [
        "df1['Seasons'].unique()\n"
      ],
      "metadata": {
        "id": "NkYaCC-Ju6Jn"
      },
      "execution_count": null,
      "outputs": []
    },
    {
      "cell_type": "code",
      "source": [
        "df1['Wind speed (m/s)'].unique()    # This column has 0 as well as null values\n"
      ],
      "metadata": {
        "id": "rcm0nmRFvMho"
      },
      "execution_count": null,
      "outputs": []
    },
    {
      "cell_type": "markdown",
      "source": [
        "#### Duplicate Values"
      ],
      "metadata": {
        "id": "35m5QtbWiB9F"
      }
    },
    {
      "cell_type": "code",
      "source": [
        "# Dataset Duplicate Value Count\n",
        "df1[df1.duplicated()].shape                # Show no. of rows of duplicate rows duplicate rows"
      ],
      "metadata": {
        "id": "1sLdpKYkmox0"
      },
      "execution_count": null,
      "outputs": []
    },
    {
      "cell_type": "code",
      "source": [
        "bike_df.drop_duplicates(inplace = True)\n",
        "\n",
        "unique_rows = bike_df.shape[0]\n",
        "\n",
        "unique_rows "
      ],
      "metadata": {
        "id": "76JetIy8vdwj"
      },
      "execution_count": null,
      "outputs": []
    },
    {
      "cell_type": "code",
      "source": [
        "df1.drop_duplicates(inplace = True)        # Dropping duplicate values"
      ],
      "metadata": {
        "id": "oM00aWODvdry"
      },
      "execution_count": null,
      "outputs": []
    },
    {
      "cell_type": "code",
      "source": [
        "df1.shape"
      ],
      "metadata": {
        "id": "a0kkPQjzvdme"
      },
      "execution_count": null,
      "outputs": []
    },
    {
      "cell_type": "markdown",
      "source": [
        "The number of duplicate values in the data set is =  0\n",
        "\n",
        "We found that there is no duplicate entry in the above data."
      ],
      "metadata": {
        "id": "JzgwNU4KvtJp"
      }
    },
    {
      "cell_type": "markdown",
      "source": [
        "#### Missing Values/Null Values"
      ],
      "metadata": {
        "id": "PoPl-ycgm1ru"
      }
    },
    {
      "cell_type": "markdown",
      "source": [
        "Real-world data often contains numerous missing values, which can be due to data corruption or other factors. As many machine-learning algorithms do not support missing values, it is necessary to handle them during the dataset pre-processing stage. Thus, the first step in dealing with missing data is to identify the missing values."
      ],
      "metadata": {
        "id": "ee5dPkoPvzNs"
      }
    },
    {
      "cell_type": "code",
      "source": [
        "# Missing Values/Null Values Count\n",
        "bike_df.isnull().sum()\n"
      ],
      "metadata": {
        "id": "GgHWkxvamxVg"
      },
      "execution_count": null,
      "outputs": []
    },
    {
      "cell_type": "markdown",
      "source": [
        "Above result says that there are no null values in the data"
      ],
      "metadata": {
        "id": "M20FG0iewYe-"
      }
    },
    {
      "cell_type": "code",
      "source": [
        "# Visualizing the missing values\n",
        "null_value = bike_df.isnull() == True\n",
        "bike_df.fillna(np.NaN, inplace = True)\n",
        "\n",
        "bike_df                                                                 #here the all null values are replaced by the value as NaN."
      ],
      "metadata": {
        "id": "3q5wnI3om9sJ"
      },
      "execution_count": null,
      "outputs": []
    },
    {
      "cell_type": "code",
      "source": [
        "bike_df.isnull().sum().sort_values(ascending = False)[:6]"
      ],
      "metadata": {
        "id": "haTSWgX8w1iV"
      },
      "execution_count": null,
      "outputs": []
    },
    {
      "cell_type": "code",
      "source": [
        "df1.isnull().sum().sort_values(ascending = False)[:6] # Columns having missing values.\n"
      ],
      "metadata": {
        "id": "wUF5C29kw1Ui"
      },
      "execution_count": null,
      "outputs": []
    },
    {
      "cell_type": "code",
      "source": [
        "miss_values =bike_df.isnull().sum().sort_values(ascending=False)\n",
        "miss_values # We have to check the count of null value in individual columns"
      ],
      "metadata": {
        "id": "RS7_N9AHw0wa"
      },
      "execution_count": null,
      "outputs": []
    },
    {
      "cell_type": "code",
      "source": [
        "type(bike_df['Date'][0])    ## data_type\n"
      ],
      "metadata": {
        "id": "OkTKHVFVw0Zg"
      },
      "execution_count": null,
      "outputs": []
    },
    {
      "cell_type": "code",
      "source": [
        "bike_df['Date'] = pd.to_datetime(bike_df['Date'])"
      ],
      "metadata": {
        "id": "hqVz5096w0Ls"
      },
      "execution_count": null,
      "outputs": []
    },
    {
      "cell_type": "code",
      "source": [
        "# all the seasons present in data\n",
        "\n",
        "bike_df['Seasons'].unique()\n"
      ],
      "metadata": {
        "id": "EMDuLBjfxMKI"
      },
      "execution_count": null,
      "outputs": []
    },
    {
      "cell_type": "code",
      "source": [
        "# creating a column containing the year from a particular date\n",
        "\n",
        "year = []\n",
        "for i in range(len(bike_df['Date'])):\n",
        "  year.append(bike_df['Date'][i].year)\n",
        "bike_df['year'] = year "
      ],
      "metadata": {
        "id": "w23vvbd6xPsi"
      },
      "execution_count": null,
      "outputs": []
    },
    {
      "cell_type": "code",
      "source": [
        "# creating a column containing the month number from a particular date\n",
        "\n",
        "months = []\n",
        "for i in range(len(bike_df['Date'])):\n",
        "  months.append(bike_df['Date'][i].month)\n",
        "bike_df['month'] = months  "
      ],
      "metadata": {
        "id": "Bgsxh_nZxT75"
      },
      "execution_count": null,
      "outputs": []
    },
    {
      "cell_type": "code",
      "source": [
        "bike_df1 = bike_df.groupby('Seasons').sum()  ##df_s == new as bike_data1"
      ],
      "metadata": {
        "id": "onVQ7yYDxWMV"
      },
      "execution_count": null,
      "outputs": []
    },
    {
      "cell_type": "code",
      "source": [
        "bike_df1"
      ],
      "metadata": {
        "id": "eA74HY_Sxajk"
      },
      "execution_count": null,
      "outputs": []
    },
    {
      "cell_type": "code",
      "source": [
        "import missingno as msno\n",
        "msno.bar(bike_df, color='green',sort='ascending', figsize=(8,3), fontsize=15)\n"
      ],
      "metadata": {
        "id": "JIVjRKzHwr3_"
      },
      "execution_count": null,
      "outputs": []
    },
    {
      "cell_type": "code",
      "source": [
        "# Visualizing the missing values using Heatmap\n",
        "plt.figure(figsize=(12,4))\n",
        "sns.heatmap(bike_df.isna(), cmap = 'coolwarm')"
      ],
      "metadata": {
        "id": "1YkMos9bxl-S"
      },
      "execution_count": null,
      "outputs": []
    },
    {
      "cell_type": "markdown",
      "source": [
        "From the above command, we noticed that every column has 0 null values. This seems to be clean data and there is no missing data in any of the rows and columns."
      ],
      "metadata": {
        "id": "gu4by_Mfxt2V"
      }
    },
    {
      "cell_type": "markdown",
      "source": [
        "### What did you know about your dataset?"
      ],
      "metadata": {
        "id": "H0kj-8xxnORC"
      }
    },
    {
      "cell_type": "markdown",
      "source": [
        "The dataset provided contains 14 columns and 8760 rows and does not have any missing or duplicate values.\n",
        "\n",
        "The goal is to predict the demand for bike-sharing using this dataset, which is sourced from the bike-sharing services market. Demand prediction involves analytical studies on the probability of a customer using bike-sharing services, with the aim of understanding and managing demand and supply equilibrium throughout the day."
      ],
      "metadata": {
        "id": "gfoNAAC-nUe_"
      }
    },
    {
      "cell_type": "markdown",
      "source": [
        "## ***2. Understanding Your Variables***"
      ],
      "metadata": {
        "id": "nA9Y7ga8ng1Z"
      }
    },
    {
      "cell_type": "code",
      "source": [
        "# Dataset Columns\n",
        "bike_df.columns"
      ],
      "metadata": {
        "id": "j7xfkqrt5Ag5"
      },
      "execution_count": null,
      "outputs": []
    },
    {
      "cell_type": "code",
      "source": [
        "# Dataset Describe\n",
        "bike_df.describe(include='all').T\n"
      ],
      "metadata": {
        "id": "DnOaZdaE5Q5t"
      },
      "execution_count": null,
      "outputs": []
    },
    {
      "cell_type": "markdown",
      "source": [
        "### Variables Description "
      ],
      "metadata": {
        "id": "PBTbrJXOngz2"
      }
    },
    {
      "cell_type": "markdown",
      "source": [
        "The dataset contains weather information (Temperature, Humidity, Windspeed, Visibility, Dewpoint, Solar radiation, Snowfall, Rainfall), the number of bikes rented per hour and date information.\n",
        "\n",
        "**Attribute Information:**\n",
        "\n",
        "**Date** :year-month-day\n",
        "\n",
        "**Rented Bike count** :Count of bikes rented at each hour\n",
        "\n",
        "**Hour** :Hour of the day\n",
        "\n",
        "**Temperature** :Temperature in Celsius\n",
        "\n",
        "**Humidity** :%\n",
        "\n",
        "**Windspeed** :m/s\n",
        "\n",
        "**Visibility** :10m\n",
        "\n",
        "**Dew point temperature** :Celsius\n",
        "\n",
        "**Solar radiation** :MJ/m2\n",
        "\n",
        "**Rainfall** :mm\n",
        "\n",
        "**Snowfall** :cm\n",
        "\n",
        "**Seasons** :Winter, Spring, Summer, Autumn\n",
        "\n",
        "**Holiday** :Holiday/No holiday\n",
        "\n",
        "**Functional Day** :NoFunc(Non Functional Hours), Fun(Functional hours)"
      ],
      "metadata": {
        "id": "aJV4KIxSnxay"
      }
    },
    {
      "cell_type": "markdown",
      "source": [
        "### Check Unique Values for each variable."
      ],
      "metadata": {
        "id": "u3PMJOP6ngxN"
      }
    },
    {
      "cell_type": "code",
      "source": [
        "# Check Unique Values for each variable.\n",
        "bike_df.nunique()\n"
      ],
      "metadata": {
        "id": "zms12Yq5n-jE"
      },
      "execution_count": null,
      "outputs": []
    },
    {
      "cell_type": "code",
      "source": [
        "for i in bike_df.columns.tolist():\n",
        "  print(\"No. of unique values in \",i,\"is\",bike_df[i].nunique())                   #We have to describes all unique value in all individual column.\n",
        "  \n"
      ],
      "metadata": {
        "id": "u1DU25Vj0nOY"
      },
      "execution_count": null,
      "outputs": []
    },
    {
      "cell_type": "code",
      "source": [
        "bike_df.describe(include='all').loc['unique', :] #tried in the @2nd  time to show the  data  in same  way unique value in all individual column."
      ],
      "metadata": {
        "id": "2soq092a0n6J"
      },
      "execution_count": null,
      "outputs": []
    },
    {
      "cell_type": "markdown",
      "source": [
        "**Observations:**\n",
        "\n",
        "*  We are focusing on several key columns of our dataset, including 'Hour', 'Holiday', 'Functioning Day', 'Rented Bike Count', 'Temperature(°C)', and 'Seasons', as they contain a wealth of information.\n",
        "\n",
        "*  By utilizing these features, we plan to create a regression model and implement various regression algorithms.\n",
        "\n",
        "*  There is a column 'Hour' which might be considered a categorical feature or maybe a numerical feature based on the data we will try both and see the result difference."
      ],
      "metadata": {
        "id": "QGDvfnVt08rh"
      }
    },
    {
      "cell_type": "markdown",
      "source": [
        "## 3. ***Data Wrangling***"
      ],
      "metadata": {
        "id": "dauF4eBmngu3"
      }
    },
    {
      "cell_type": "markdown",
      "source": [
        "### Data Wrangling Code"
      ],
      "metadata": {
        "id": "bKJF3rekwFvQ"
      }
    },
    {
      "cell_type": "code",
      "source": [
        "# Write your code to make your dataset analysis ready.\n",
        "miss_values[:4]"
      ],
      "metadata": {
        "id": "wk-9a2fpoLcV"
      },
      "execution_count": null,
      "outputs": []
    },
    {
      "cell_type": "code",
      "source": [
        "percentage_company_null_values = miss_values[0] / unique_rows*100\n",
        "percentage_company_null_values"
      ],
      "metadata": {
        "id": "7xW7tm6Q1al3"
      },
      "execution_count": null,
      "outputs": []
    },
    {
      "cell_type": "markdown",
      "source": [
        "**Creating Some New Features**"
      ],
      "metadata": {
        "id": "CuS93esT10dW"
      }
    },
    {
      "cell_type": "code",
      "source": [
        "# Renaming complex columns name for the sake of simplicity    **(Not a necessary step to do)**\n",
        "bike_df=bike_df.rename(columns={'Rented Bike Count':'rented_bike_count',\n",
        "                                'Date':'date',\n",
        "                                'Hour':'hour',\n",
        "                                'Seasons':'seasons',\n",
        "                                'Holiday':'holiday',\n",
        "                                'Temperature(°C)':'temperature',\n",
        "                                'Humidity(%)':'humidity',\n",
        "                                'Wind speed (m/s)':'wind_speed',\n",
        "                                'Visibility (10m)':'visibility',\n",
        "                                'Dew point temperature(°C)':'dew_point_temperature',\n",
        "                                'Solar Radiation (MJ/m2)':'solar_radiation',\n",
        "                                'Rainfall(mm)':'rainfall',\n",
        "                                'Snowfall (cm)':'snowfall',\n",
        "                                'Functioning Day':'functioning_day'})"
      ],
      "metadata": {
        "id": "qqe70sak1xNC"
      },
      "execution_count": null,
      "outputs": []
    },
    {
      "cell_type": "code",
      "source": [
        "# Splitting Date into year, month, day & day_name\n",
        "bike_df.date = pd.to_datetime(bike_df.date)\n",
        "\n",
        "bike_df['day'] = bike_df['date'].dt.day\n",
        "bike_df['month'] = bike_df['date'].dt.month\n",
        "bike_df['year'] = bike_df['date'].dt.year\n",
        "bike_df['weekday'] = bike_df['date'].dt.day_name()\n",
        "\n",
        "# droping Date column\n",
        "bike_df.drop('date', axis=1, inplace=True)"
      ],
      "metadata": {
        "id": "uLrh1NH416FI"
      },
      "execution_count": null,
      "outputs": []
    },
    {
      "cell_type": "code",
      "source": [
        "bike_df.hour.unique()\n"
      ],
      "metadata": {
        "id": "_oAJWHiL18Tm"
      },
      "execution_count": null,
      "outputs": []
    },
    {
      "cell_type": "markdown",
      "source": [
        "The hours of the day follow a clear sequence, with 9 am being closer to 10 am than it is to 8 am, and farther from 6 pm. This feature can be classified as a discrete ordinal variable. We will consider the hour as a categorical value and transform it into a numerical value to see if there is any difference in the results."
      ],
      "metadata": {
        "id": "HyCm3zvw2AB_"
      }
    },
    {
      "cell_type": "code",
      "source": [
        "def session(x):\n",
        "   \n",
        "    ''' \n",
        "    For exploratory data analysis (EDA) purposes, the \"Hour\" column can be converted into categorical variables\n",
        "    such as \"Morning\", \"Noon\", and \"Night\", without altering the existing label encoding format of the \"Hour\" column. \n",
        "    This conversion is not necessary for model training.\n",
        "    '''\n",
        "    \n",
        "    if x>4 and x<=8:\n",
        "        return 'Early Morning'\n",
        "    elif x>8 and x<=12:\n",
        "        return 'Morning'\n",
        "    elif x>12 and x<=16:\n",
        "        return 'Afternoon'\n",
        "    elif x>16 and x<=20:\n",
        "        return 'Evening'\n",
        "    elif x>20 and x<=24:\n",
        "        return 'Night'\n",
        "    elif x<=4:\n",
        "        return 'Late Night'\n",
        "\n",
        "#apply funtion to make new category column\n",
        "bike_df['session'] = bike_df['hour'].apply(session)"
      ],
      "metadata": {
        "id": "NRY5m8692El4"
      },
      "execution_count": null,
      "outputs": []
    },
    {
      "cell_type": "markdown",
      "source": [
        "## ***4. Data Vizualization, Storytelling & Experimenting with charts : Understand the relationships between variables***"
      ],
      "metadata": {
        "id": "GF8Ens_Soomf"
      }
    },
    {
      "cell_type": "markdown",
      "source": [
        "#### Chart - 1"
      ],
      "metadata": {
        "id": "0wOQAZs5pc--"
      }
    },
    {
      "cell_type": "code",
      "source": [
        "# Chart - 1 visualization code\n",
        "def get_count_from_column_bar(bike_df, column_label):\n",
        "  df_grpd = bike_df[column_label].value_counts()\n",
        "  df_grpd = pd.DataFrame({'index':df_grpd.index, 'count':df_grpd.values})\n",
        "  return df_grpd\n",
        "\n",
        "\n",
        "def plot_bar_chart_from_column(bike_df, column_label, t1):\n",
        "  df_grpd = get_count_from_column(bike_df, column_label)\n",
        "  fig, ax = plt.subplots(figsize=(14, 6))\n",
        "  c= ['g','r','b','c','y']\n",
        "  ax.bar(df_grpd['index'], df_grpd['count'], width = 0.4, align = 'edge', edgecolor = 'black', linewidth = 4, color = c, linestyle = ':', alpha = 0.5)\n",
        "  plt.title(t1, bbox={'facecolor':'0.8', 'pad':3})\n",
        "  plt.legend()\n",
        "  plt.ylabel('Count')\n",
        "  plt.xticks(rotation = 15) # use to format the lable of x-axis\n",
        "  plt.xlabel(column_label)\n",
        "  plt.show()"
      ],
      "metadata": {
        "id": "7v_ESjsspbW7"
      },
      "execution_count": null,
      "outputs": []
    },
    {
      "cell_type": "code",
      "source": [
        "def get_count_from_column(bike_df, column_label):\n",
        "  df_grpd = bike_df[column_label].value_counts()\n",
        "  df_grpd = pd.DataFrame({'index':df_grpd.index, 'count':df_grpd.values})\n",
        "  return df_grpd\n",
        "\n",
        "# plot a pie chart from grouped data\n",
        "def plot_pie_chart_from_column(bike_df, column_label, t1, exp):\n",
        "  df_grpd = get_count_from_column(bike_df, column_label)\n",
        "  fig, ax = plt.subplots(figsize=(15,10))\n",
        "  ax.pie(df_grpd.loc[:, 'count'], labels=df_grpd.loc[:, 'index'], autopct='%1.2f%%',startangle=90,shadow=True, labeldistance = 1, explode = exp)\n",
        "  plt.title(t1, bbox={'facecolor':'0.8', 'pad':3})\n",
        "  ax.axis('equal')\n",
        "  plt.legend()\n",
        "  plt.show()  "
      ],
      "metadata": {
        "id": "sHTNcPAo2SuH"
      },
      "execution_count": null,
      "outputs": []
    },
    {
      "cell_type": "code",
      "source": [
        "bike_df1['Rented Bike Count'].plot(kind='pie', subplots=True, figsize=(8, 8))\n"
      ],
      "metadata": {
        "id": "o5GKf6OH2U5J"
      },
      "execution_count": null,
      "outputs": []
    },
    {
      "cell_type": "code",
      "source": [
        "fig,ax = plt.subplots(1,3, figsize=(15,4))\n",
        "\n",
        "# Univariate analysis\n",
        "count = sns.countplot(data=bike_df, x='seasons', ax=ax[0])\n",
        "count.set_title('Count Plot of Seasons')\n",
        "\n",
        "# adding value count on the top of bar\n",
        "for p in count.patches:\n",
        "    count.annotate(format(p.get_height(), '.0f'), (p.get_x(), p.get_height()))\n",
        "\n",
        "# Bi-variate analysis \n",
        "# Rented Bike Count Vs Seasons\n",
        "bar = sns.barplot(data=bike_df, x='seasons', y='rented_bike_count', ax = ax[1])\n",
        "bar.set(xlabel='Seasons', ylabel='Rented Bike Count', title='Rented Bike Count Vs Seasons')\n",
        "\n",
        "# Multi-variate analysis\n",
        "cat = sns.barplot(data=bike_df, x='seasons', y='rented_bike_count', hue='holiday', ax= ax[2])\n",
        "cat.set(xlabel='Seasons', ylabel = ' Rented Bike Count', title='Average Bike Rented Vs Seasons with holiday status')\n",
        "\n",
        "plt.tight_layout()\n",
        "plt.show()\n",
        "     "
      ],
      "metadata": {
        "id": "TWLjbC81249Q"
      },
      "execution_count": null,
      "outputs": []
    },
    {
      "cell_type": "markdown",
      "source": [
        "##### 1. Why did you pick the specific chart?"
      ],
      "metadata": {
        "id": "K5QZ13OEpz2H"
      }
    },
    {
      "cell_type": "markdown",
      "source": [
        "Here multiple charts are used bar and pi charts to repesent the data in diffrent and each section\n",
        "\n",
        "The bar chart is an effective tool for the management of work in a project.\n",
        "\n",
        "pi chart can be used to show percentages of a whole, and represents percentages at a set point in time. "
      ],
      "metadata": {
        "id": "XESiWehPqBRc"
      }
    },
    {
      "cell_type": "markdown",
      "source": [
        "##### 2. What is/are the insight(s) found from the chart?"
      ],
      "metadata": {
        "id": "lQ7QKXXCp7Bj"
      }
    },
    {
      "cell_type": "markdown",
      "source": [
        "Dataset has 4 seasons and every season has more than 2000 counts. most bikes have been rented in the summer season. least bike rent count is in winter season. autumn and spring seasons have almost equal amounts of bike rent count."
      ],
      "metadata": {
        "id": "C_j1G7yiqdRP"
      }
    },
    {
      "cell_type": "markdown",
      "source": [
        "##### 3. Will the gained insights help creating a positive business impact? \n",
        "Are there any insights that lead to negative growth? Justify with specific reason."
      ],
      "metadata": {
        "id": "448CDAPjqfQr"
      }
    },
    {
      "cell_type": "markdown",
      "source": [
        "The most preferred season for the rented_bike_count is summer and the least preferred is winter which means that people prefer to rent bikes in warm temperatures. \n",
        "\n",
        "In every season on a no holiday rented_bike_count has more count than on a holiday."
      ],
      "metadata": {
        "id": "3cspy4FjqxJW"
      }
    },
    {
      "cell_type": "markdown",
      "source": [
        "#### Chart - 2 humidity"
      ],
      "metadata": {
        "id": "KSlN3yHqYklG"
      }
    },
    {
      "cell_type": "code",
      "source": [
        "# Chart - 2 visualization code\n",
        "fig,ax = plt.subplots(1,3, figsize=(15,4))\n",
        "\n",
        "# Univariate analysis\n",
        "dist = sns.distplot(bike_df.humidity, ax = ax[0])\n",
        "dist.set_title('Distribution Plot of Humidity')\n",
        "\n",
        "# Bi-variate analysis \n",
        "# Rented Bike Count Vs Humidity\n",
        "scatter = sns.scatterplot(data=bike_df, x='humidity', y='rented_bike_count', ax = ax[1])\n",
        "scatter.set(xlabel='humidity', ylabel='rented_bike_count', title='Rented Bike Count Vs Humidity')\n",
        "\n",
        "# Line Plot\n",
        "group_wind_speed = bike_df.groupby(['humidity'])['rented_bike_count'].mean().reset_index()\n",
        "line = sns.lineplot(data=group_wind_speed, x='humidity', y = 'rented_bike_count', ax= ax[2])\n",
        "line.set(xlabel='Humidity', ylabel = ' Rented Bike Count', title='Average Bike Rented Vs Humidity')\n",
        "\n",
        "plt.tight_layout()\n",
        "plt.show()"
      ],
      "metadata": {
        "id": "R4YgtaqtYklH"
      },
      "execution_count": null,
      "outputs": []
    },
    {
      "cell_type": "code",
      "source": [
        "bike_df.columns"
      ],
      "metadata": {
        "id": "h8lsLw5NPnV9"
      },
      "execution_count": null,
      "outputs": []
    },
    {
      "cell_type": "markdown",
      "source": [
        "##### 1. Why did you pick the specific chart?"
      ],
      "metadata": {
        "id": "t6dVpIINYklI"
      }
    },
    {
      "cell_type": "markdown",
      "source": [
        "charts  to used to compare in Count of Rented bikes acording to humidity"
      ],
      "metadata": {
        "id": "5aaW0BYyYklI"
      }
    },
    {
      "cell_type": "markdown",
      "source": [
        "##### 2. What is/are the insight(s) found from the chart?"
      ],
      "metadata": {
        "id": "ijmpgYnKYklI"
      }
    },
    {
      "cell_type": "markdown",
      "source": [
        "We can see from the plots above that the average number of bikes rented goes up and down sharply with the peak at around 50. For the number of rented bikes in demand, the most preferred humid environment is 20-90."
      ],
      "metadata": {
        "id": "PSx9atu2YklI"
      }
    },
    {
      "cell_type": "markdown",
      "source": [
        "##### 3. Will the gained insights help creating a positive business impact? \n",
        "Are there any insights that lead to negative growth? Justify with specific reason."
      ],
      "metadata": {
        "id": "-JiQyfWJYklI"
      }
    },
    {
      "cell_type": "markdown",
      "source": [
        "Humidity: With increasing humidity, we see decrease in the number of bike rental count."
      ],
      "metadata": {
        "id": "BcBbebzrYklV"
      }
    },
    {
      "cell_type": "markdown",
      "source": [
        "#### Chart - 3 Outliers "
      ],
      "metadata": {
        "id": "EM7whBJCYoAo"
      }
    },
    {
      "cell_type": "code",
      "source": [
        "# Chart - 3 visualization code\n",
        "\n",
        "\n",
        "plt.figure(figsize=(20,25))\n",
        "for index,item in enumerate([i for i in bike_df.describe().columns.to_list() if i not in ['Rainfall(mm)','Snowfall (cm)']]):  ## looking for outliers using box plot for all of the data sets \n",
        "\n",
        "  plt.subplot(9,8,index+1)\n",
        "  sns.boxplot(bike_df[item])"
      ],
      "metadata": {
        "id": "t6GMdE67YoAp"
      },
      "execution_count": null,
      "outputs": []
    },
    {
      "cell_type": "code",
      "source": [
        "Q1 = bike_df.quantile(0.25)\n",
        "Q3 = bike_df.quantile(0.75)\n",
        "IQR = Q3 - Q1\n",
        "print(IQR)\n",
        "\n",
        "\n",
        "# listing features to remove outliers\n",
        "\n",
        "features = list(bike_df.columns)\n",
        "features = features[2:]\n",
        "list_0 = ['Hour','Seasons','Holiday','Functioning Day','month','year','week']\n",
        "new_features = [x for x in features if x not in list_0]"
      ],
      "metadata": {
        "id": "ybdWGZ_tC0Y4"
      },
      "execution_count": null,
      "outputs": []
    },
    {
      "cell_type": "code",
      "source": [
        "# listing features to remove outliers\n",
        "\n",
        "features = list(bike_df.columns)\n",
        "features = features[2:]\n",
        "list_0 = ['Hour','Seasons','Holiday','Functioning Day','month','year','week']\n",
        "new_features = [x for x in features if x not in list_0]"
      ],
      "metadata": {
        "id": "iCTcz5qTC37O"
      },
      "execution_count": null,
      "outputs": []
    },
    {
      "cell_type": "code",
      "source": [
        "new_features"
      ],
      "metadata": {
        "id": "I3eeKuhzC67I"
      },
      "execution_count": null,
      "outputs": []
    },
    {
      "cell_type": "code",
      "source": [
        "# removing outliers\n",
        "\n",
        "bike_df[new_features] = bike_df[new_features][~((bike_df[new_features] < (Q1 - 1.5 * IQR)) |(bike_df[new_features] > (Q3 + 1.5 * IQR))).any(axis=1)]"
      ],
      "metadata": {
        "id": "k8itSpS4C-eK"
      },
      "execution_count": null,
      "outputs": []
    },
    {
      "cell_type": "code",
      "source": [
        "bike_df.info()"
      ],
      "metadata": {
        "id": "eGPV4c8MDA4B"
      },
      "execution_count": null,
      "outputs": []
    },
    {
      "cell_type": "code",
      "source": [
        "numerical_features = []\n",
        "categorical_features = []\n",
        "\n",
        "# splitting features into numeric and categoric.\n",
        "'''\n",
        "If feature has more than 35 categories we will consider it\n",
        "as numerical_features, remaining features will be added to categorical_features.\n",
        "'''\n",
        "for col in bike_df.columns:  \n",
        "  if bike_df[col].nunique() > 35:\n",
        "    numerical_features.append(col) \n",
        "  else:\n",
        "    categorical_features.append(col) \n",
        "\n",
        "print(f'Numerical Features : {numerical_features}')\n",
        "print(f'Categorical Features : {categorical_features}')"
      ],
      "metadata": {
        "id": "QEofqhsGVFiA"
      },
      "execution_count": null,
      "outputs": []
    },
    {
      "cell_type": "code",
      "source": [
        "plt.figure(figsize=(15,5))\n",
        "# title\n",
        "plt.suptitle('Outlier Analysis of Numerical Features', fontsize=20, fontweight='bold', y=1.02)\n",
        "\n",
        "for i,col in enumerate(numerical_features):\n",
        "  plt.subplot(3, 4, i+1)            # subplot of 2 rows and 3 columns\n",
        "\n",
        "  # countplot\n",
        "  sns.boxplot(bike_df[col])\n",
        "  # x-axis label\n",
        "  plt.xlabel(col)\n",
        "  plt.tight_layout()\n",
        "     "
      ],
      "metadata": {
        "id": "XSrIdA6AU1mJ"
      },
      "execution_count": null,
      "outputs": []
    },
    {
      "cell_type": "code",
      "source": [
        "# checking for distribution after treating outliers.\n",
        "\n",
        "# figsize\n",
        "plt.figure(figsize=(15,6))\n",
        "# title\n",
        "plt.suptitle('Data Distibution of Numerical Features', fontsize=20, fontweight='bold', y=1.02)\n",
        "\n",
        "for i,col in enumerate(numerical_features):\n",
        "  plt.subplot(4, 3, i+1)                       # subplots 3 rows, 2 columns\n",
        "\n",
        "  # dist plots\n",
        "  sns.distplot(bike_df[col])  \n",
        "  # x-axis label\n",
        "  plt.xlabel(col)\n",
        "  plt.tight_layout()"
      ],
      "metadata": {
        "id": "kzNUnYXBWQmP"
      },
      "execution_count": null,
      "outputs": []
    },
    {
      "cell_type": "markdown",
      "source": [
        "##### 1. Why did you pick the specific chart?"
      ],
      "metadata": {
        "id": "fge-S5ZAYoAp"
      }
    },
    {
      "cell_type": "markdown",
      "source": [
        "chart is to used to looking for outliers and box plot is uesd to show distributions of numeric data values, especially when you want to compare them between multiple groups."
      ],
      "metadata": {
        "id": "5dBItgRVYoAp"
      }
    },
    {
      "cell_type": "markdown",
      "source": [
        "##### 2. What is/are the insight(s) found from the chart?"
      ],
      "metadata": {
        "id": "85gYPyotYoAp"
      }
    },
    {
      "cell_type": "markdown",
      "source": [
        "Here we can see that the columns that contain outliers are Rainfall, Snowfall, Windspeed and Solar Radiation\n",
        "\n",
        "Due to outlier deletion, some null values have been created in these 4 columns.Now, we can either delete the observations with null values or impute them with some meaning full values. In this case I will be imputing them with the median value of each column.\n",
        "\n",
        "Note: Usually mean is chosen to impute null values, but I'll be choosing the median because mean is affected very much by outliers whereas the median is not."
      ],
      "metadata": {
        "id": "4jstXR6OYoAp"
      }
    },
    {
      "cell_type": "markdown",
      "source": [
        "##### 3. Will the gained insights help creating a positive business impact? \n",
        "Are there any insights that lead to negative growth? Justify with specific reason."
      ],
      "metadata": {
        "id": "RoGjAbkUYoAp"
      }
    },
    {
      "cell_type": "markdown",
      "source": [
        "there is no negative  outcome as  removing of the  ouliers is  done and  featuring themself and 5 columns are aslo created \"object(5)\"\n",
        "\n",
        "We can also observe some shifts in the distribution of the data after treating outliers. Some of the data were skewed before handling outliers, but after doing so, the features almost follow the normal distribution. Therefore, we are not utilizing the numerical feature transformation technique."
      ],
      "metadata": {
        "id": "zfJ8IqMcYoAp"
      }
    },
    {
      "cell_type": "markdown",
      "source": [
        "#### Chart - 4 Hour"
      ],
      "metadata": {
        "id": "4Of9eVA-YrdM"
      }
    },
    {
      "cell_type": "code",
      "source": [
        "# Chart - 4 visualization code\n",
        "\n",
        "fig,ax = plt.subplots(1,3, figsize=(15,4))\n",
        "\n",
        "# Univariate analysis\n",
        "count = sns.countplot(data=bike_df, x='hour', ax=ax[0])\n",
        "count.set_title('Count Plot of Hour')\n",
        "\n",
        "# adding value count on the top of bar\n",
        "for p in count.patches:\n",
        "    count.annotate(format(p.get_height(), '.0f'), (p.get_x(), p.get_height()))\n",
        "\n",
        "# Bi-variate analysis \n",
        "# Rented Bike Count Vs Hour\n",
        "bar = sns.barplot(data=bike_df, x='hour', y='rented_bike_count', ax = ax[1])\n",
        "bar.set(xlabel='Hour', ylabel='Rented Bike Count', title='Rented Bike Count Vs Hour')\n",
        "\n",
        "# Multi-variate analysis\n",
        "point = sns.pointplot(data=bike_df, x='hour', y='rented_bike_count', hue='holiday', ax= ax[2])\n",
        "point.set(xlabel='Hour', ylabel = ' Rented Bike Count', title='Average Bike Rented Vs Hour with year')\n",
        "\n",
        "plt.tight_layout()\n",
        "plt.show()"
      ],
      "metadata": {
        "id": "irlUoxc8YrdO"
      },
      "execution_count": null,
      "outputs": []
    },
    {
      "cell_type": "code",
      "source": [
        "#ploting line graph\n",
        "# group by Hrs and get average Bikes rented, and precent change\n",
        "avg_rent_hrs = bike_df.groupby('hour')['rented_bike_count'].mean()\n",
        "\n",
        "# plot average rent over time(hrs)\n",
        "plt.figure(figsize=(20,4))\n",
        "a=avg_rent_hrs.plot(legend=True,marker='o',title=\"Average Bikes Rented Per Hr\")\n",
        "a.set_xticks(range(len(avg_rent_hrs)));\n",
        "a.set_xticklabels(avg_rent_hrs.index.tolist(), rotation=85);"
      ],
      "metadata": {
        "id": "T-X--ROGd4rf"
      },
      "execution_count": null,
      "outputs": []
    },
    {
      "cell_type": "markdown",
      "source": [
        "##### 1. Why did you pick the specific chart?"
      ],
      "metadata": {
        "id": "iky9q4vBYrdO"
      }
    },
    {
      "cell_type": "markdown",
      "source": [
        "Charts are used to compare the  datasets as per the hour and Line graphs can be used to show how something changes over time"
      ],
      "metadata": {
        "id": "aJRCwT6DYrdO"
      }
    },
    {
      "cell_type": "markdown",
      "source": [
        "##### 2. What is/are the insight(s) found from the chart?"
      ],
      "metadata": {
        "id": "F6T5p64dYrdO"
      }
    },
    {
      "cell_type": "markdown",
      "source": [
        "*  Every hour has an equal number of counts in the dataset.\n",
        "\n",
        "*  Demand for rented bike count is higher at 8 AM and 6 PM indicating a high demand during business hours.\n",
        "\n",
        "*  Rented Bike Count follows 2 patterns one for holiday and another for no holiday.\n",
        "\n",
        "*  Holiday: The first pattern is where there is a peak in the rentals at around 8 am and another at around 6 pm. These correspond to local bikers who typically go to work on a working day, Monday to Friday.\n",
        "\n",
        "*  Non-Working Day: Second pattern where there are more or less uniform rentals across the day with a peak at around noon time. \n",
        "\n",
        "*  These correspond to probable tourists who typically are casual users who rent/drop off bikes uniformly during the day and tour the city on nonworking days which typically are Saturday and Sunday"
      ],
      "metadata": {
        "id": "Xx8WAJvtYrdO"
      }
    },
    {
      "cell_type": "markdown",
      "source": [
        "##### 3. Will the gained insights help creating a positive business impact? \n",
        "Are there any insights that lead to negative growth? Justify with specific reason."
      ],
      "metadata": {
        "id": "y-Ehk30pYrdP"
      }
    },
    {
      "cell_type": "markdown",
      "source": [
        "There is no negative growth as demand for rented bike count is higher at 8 AM and 6 PM indicating a high demand during business hours."
      ],
      "metadata": {
        "id": "jLNxxz7MYrdP"
      }
    },
    {
      "cell_type": "markdown",
      "source": [
        "#### Chart - 5 seasons"
      ],
      "metadata": {
        "id": "bamQiAODYuh1"
      }
    },
    {
      "cell_type": "code",
      "source": [
        "bike_df.columns"
      ],
      "metadata": {
        "id": "YE1KihouGgd9"
      },
      "execution_count": null,
      "outputs": []
    },
    {
      "cell_type": "code",
      "source": [
        "# Chart - 5 visualization code\n",
        "\n",
        "#seasons\n",
        "\n",
        "fig,ax=plt.subplots(figsize=(10,8))\n",
        "sns.boxplot(data=bike_df,x='seasons',y='rented_bike_count',ax=ax)\n",
        "ax.set(title='Count of Rented bikes acording to Seasons ')"
      ],
      "metadata": {
        "id": "TIJwrbroYuh3"
      },
      "execution_count": null,
      "outputs": []
    },
    {
      "cell_type": "code",
      "source": [
        "fig,ax = plt.subplots(1,3, figsize=(15,4))\n",
        "\n",
        "# Univariate analysis\n",
        "count = sns.countplot(data=bike_df, x='seasons', ax=ax[0])\n",
        "count.set_title('Count Plot of seasons')\n",
        "\n",
        "# adding value count on the top of bar\n",
        "for p in count.patches:\n",
        "    count.annotate(format(p.get_height(), '.0f'), (p.get_x(), p.get_height()))\n",
        "\n",
        "# Bi-variate analysis \n",
        "# Rented Bike Count Vs Seasons\n",
        "bar = sns.barplot(data=bike_df, x='seasons', y='rented_bike_count', ax = ax[1])\n",
        "bar.set(xlabel='Seasons', ylabel='Rented Bike Count', title='Rented Bike Count Vs Seasons')\n",
        "\n",
        "# Multi-variate analysis\n",
        "cat = sns.barplot(data=bike_df, x='seasons', y='rented_bike_count', hue='holiday', ax= ax[2])\n",
        "cat.set(xlabel='Seasons', ylabel = ' Rented Bike Count', title='Average Bike Rented Vs Seasons with holiday status')\n",
        "\n",
        "plt.tight_layout()\n",
        "plt.show()\n"
      ],
      "metadata": {
        "id": "Kd3PKARqHJ67"
      },
      "execution_count": null,
      "outputs": []
    },
    {
      "cell_type": "markdown",
      "source": [
        "##### 1. Why did you pick the specific chart?"
      ],
      "metadata": {
        "id": "QHF8YVU7Yuh3"
      }
    },
    {
      "cell_type": "markdown",
      "source": [
        "The countplot is used to represent the occurrence(counts) of the observation present in the categorical variable."
      ],
      "metadata": {
        "id": "dcxuIMRPYuh3"
      }
    },
    {
      "cell_type": "markdown",
      "source": [
        "##### 2. What is/are the insight(s) found from the chart?"
      ],
      "metadata": {
        "id": "GwzvFGzlYuh3"
      }
    },
    {
      "cell_type": "markdown",
      "source": [
        " Dataset has 4 seasons and every season has more than 2000 counts.\n",
        "\n",
        "The most preferred season for the rented_bike_count is summer and the least preferred is winter which means that people prefer to rent bikes in warm temperatures.\n",
        "\n",
        "In every season on a no holiday rented_bike_count has more count than on a holiday."
      ],
      "metadata": {
        "id": "uyqkiB8YYuh3"
      }
    },
    {
      "cell_type": "markdown",
      "source": [
        "##### 3. Will the gained insights help creating a positive business impact? \n",
        "Are there any insights that lead to negative growth? Justify with specific reason."
      ],
      "metadata": {
        "id": "qYpmQ266Yuh3"
      }
    },
    {
      "cell_type": "markdown",
      "source": [
        "Bike reservations are lesser in Spring season compared to Summer and Fall\n",
        "Lots of outlier points for a particular seasons or weather conditions. This is most likely due to variable distribution across the day"
      ],
      "metadata": {
        "id": "_WtzZ_hCYuh4"
      }
    },
    {
      "cell_type": "markdown",
      "source": [
        "#### Chart - 6 Holiday"
      ],
      "metadata": {
        "id": "OH-pJp9IphqM"
      }
    },
    {
      "cell_type": "code",
      "source": [
        "# Chart - 6 visualization code\n",
        "##Holiday\n",
        "\n",
        "bike_df.groupby('holiday').sum()['rented_bike_count'].plot.pie(radius=2)"
      ],
      "metadata": {
        "id": "kuRf4wtuphqN"
      },
      "execution_count": null,
      "outputs": []
    },
    {
      "cell_type": "code",
      "source": [
        "fig,ax=plt.subplots(figsize=(7,7))\n",
        "sns.pointplot(data=bike_df,x='hour',y='rented_bike_count',hue='holiday',ax=ax)\n",
        "ax.set(title='Count of Rented bikes acording to Holiday ')"
      ],
      "metadata": {
        "id": "_PNTUcQCLI2C"
      },
      "execution_count": null,
      "outputs": []
    },
    {
      "cell_type": "code",
      "source": [
        "fig,ax = plt.subplots(1,3, figsize=(15,4))\n",
        "\n",
        "# Univariate analysis\n",
        "count = sns.countplot(data=bike_df, x='holiday', ax=ax[0])\n",
        "count.set_title('Count Plot of Holiday')\n",
        "\n",
        "# adding value count on the top of bar\n",
        "for p in count.patches:\n",
        "    count.annotate(format(p.get_height(), '.0f'), (p.get_x(), p.get_height()))\n",
        "\n",
        "# Bi-variate analysis \n",
        "# Rented Bike Count Vs Holiday\n",
        "bar = sns.barplot(data=bike_df, x='holiday', y='rented_bike_count', ax = ax[1])\n",
        "bar.set(xlabel='Holiday', ylabel='Rented Bike Count', title='Rented Bike Count Vs Holiday')\n",
        "\n",
        "# Multi-variate analysis\n",
        "cat = sns.barplot(data=bike_df, x='holiday', y='rented_bike_count', hue='year', ax= ax[2])\n",
        "cat.set(xlabel='Holiday', ylabel = ' Rented Bike Count', title='Average Bike Rented Vs Holiday with year')\n",
        "\n",
        "plt.tight_layout()\n",
        "plt.show()\n",
        "\n",
        "\n"
      ],
      "metadata": {
        "id": "y_FxnItULIw9"
      },
      "execution_count": null,
      "outputs": []
    },
    {
      "cell_type": "code",
      "source": [
        "bike_df.columns"
      ],
      "metadata": {
        "id": "VdJbFSjYMg0G"
      },
      "execution_count": null,
      "outputs": []
    },
    {
      "cell_type": "markdown",
      "source": [
        "##### 1. Why did you pick the specific chart?"
      ],
      "metadata": {
        "id": "bbFf2-_FphqN"
      }
    },
    {
      "cell_type": "markdown",
      "source": [
        "Multiple charts are used to represent the data and charts are is used to show data comparisons of No holiday than a holiday."
      ],
      "metadata": {
        "id": "loh7H2nzphqN"
      }
    },
    {
      "cell_type": "markdown",
      "source": [
        "##### 2. What is/are the insight(s) found from the chart?"
      ],
      "metadata": {
        "id": "_ouA3fa0phqN"
      }
    },
    {
      "cell_type": "markdown",
      "source": [
        "*  Dataset has more records of No holiday than a holiday which is obvious as most of the days are working days.\n",
        "\n",
        "*  When there are no holidays, demand for bike sharing is higher than when there are holidays, indicating that business-related bike rentals are preferred.\n",
        "\n",
        "*  Dataset has more records of 2018 than 2017.\n",
        "\n",
        "Holiday and 'day': workingday = weekday and not a holiday. "
      ],
      "metadata": {
        "id": "VECbqPI7phqN"
      }
    },
    {
      "cell_type": "markdown",
      "source": [
        "##### 3. Will the gained insights help creating a positive business impact? \n",
        "Are there any insights that lead to negative growth? Justify with specific reason."
      ],
      "metadata": {
        "id": "Seke61FWphqN"
      }
    },
    {
      "cell_type": "markdown",
      "source": [
        "Since we noticed that there were two kinds of bike rental behavoirs - during working days and not a working day, we will retain only the workingday column and drop 'day' and 'holiday' column"
      ],
      "metadata": {
        "id": "DW4_bGpfphqN"
      }
    },
    {
      "cell_type": "markdown",
      "source": [
        "#### Chart - 7 Temperature"
      ],
      "metadata": {
        "id": "PIIx-8_IphqN"
      }
    },
    {
      "cell_type": "code",
      "source": [
        "# Chart - 7 visualization code\n",
        "\n",
        "fig,ax = plt.subplots(1,3, figsize=(18,4))\n",
        "\n",
        "# Univariate analysis\n",
        "# Dependent Column Value Vs temperature\n",
        "# group temperature column\n",
        "\n",
        "temp_wrt_bike_rent_count = bike_df.groupby(['temperature'])['rented_bike_count'].mean().reset_index()\n",
        "\n",
        "line = sns.lineplot(x = 'temperature', y ='rented_bike_count', data = temp_wrt_bike_rent_count, ax = ax[0])\n",
        "line.set_title('Average rented bike count wrt temperature')\n",
        "\n",
        "# Multi-variate analysis\n",
        "# Dependent Column Value Vs hour with temperature\n",
        "\n",
        "bike_df_nw = bike_df[(bike_df.weekday != 'Saturday') & (bike_df.weekday != 'Sunday')]\n",
        "bike_df_w = bike_df[(bike_df.weekday == 'Saturday') | (bike_df.weekday == 'Sunday')]\n",
        "\n",
        "# Weekend\n",
        "\n",
        "scatter2 = sns.scatterplot(x=bike_df_w.hour, y=bike_df_w['rented_bike_count'], c=bike_df_w.temperature, cmap=\"RdBu\", ax =ax[1])\n",
        "scatter2.set(xticks = range(24), xlabel='Hours in day', ylabel='rented_bike_count')\n",
        "scatter2.set_title('Weekend: Rented Bike Count vs. Hour with Temperature Gradient')\n",
        "\n",
        "# Not a Weekend\n",
        "\n",
        "\n",
        "scatter = sns.scatterplot(x=bike_df_nw.hour, y=bike_df_nw['rented_bike_count'], c=bike_df_nw.temperature,cmap=\"RdBu\", ax = ax[2])\n",
        "scatter.set(xticks = range(24), xlabel='Hours in day', ylabel='rented_bike_count')\n",
        "scatter.set_title('Not a Weekend: Rented Bike Count vs. Hour with Temperature Gradient')\n",
        "\n",
        "\n",
        "plt.tight_layout()\n",
        "plt.show()"
      ],
      "metadata": {
        "id": "lqAIGUfyphqO"
      },
      "execution_count": null,
      "outputs": []
    },
    {
      "cell_type": "markdown",
      "source": [
        "##### 1. Why did you pick the specific chart?"
      ],
      "metadata": {
        "id": "t27r6nlMphqO"
      }
    },
    {
      "cell_type": "markdown",
      "source": [
        " Subplots provide sub-themes that amplify and widen the meaning of the story's central theme"
      ],
      "metadata": {
        "id": "iv6ro40sphqO"
      }
    },
    {
      "cell_type": "markdown",
      "source": [
        "##### 2. What is/are the insight(s) found from the chart?"
      ],
      "metadata": {
        "id": "r2jJGEOYphqO"
      }
    },
    {
      "cell_type": "markdown",
      "source": [
        "*  We can see from the line plot above that the average number of bikes rented with temperature increases steadily, with a slight decrease at the highest temperature.\n",
        "\n",
        "*  People prefer renting bikes in warm environments. Therefore, the demand for bicycles is high if the temperature is sufficiently warm, but extremely hot temperatures are also unsuitable for bike demand.\n",
        "\n",
        "*  However, there is a slight decrease in count if the temperature is too high (the darkest of the blue dots).\n"
      ],
      "metadata": {
        "id": "Po6ZPi4hphqO"
      }
    },
    {
      "cell_type": "markdown",
      "source": [
        "##### 3. Will the gained insights help creating a positive business impact? \n",
        "Are there any insights that lead to negative growth? Justify with specific reason."
      ],
      "metadata": {
        "id": "b0JNsNcRphqO"
      }
    },
    {
      "cell_type": "markdown",
      "source": [
        "Temperature: People generally prefer to bike at moderate to high temperatures. We see the highest rental counts between 32 to 36 degrees Celcius"
      ],
      "metadata": {
        "id": "xvSq8iUTphqO"
      }
    },
    {
      "cell_type": "markdown",
      "source": [
        "#### Chart - 8"
      ],
      "metadata": {
        "id": "BZR9WyysphqO"
      }
    },
    {
      "cell_type": "code",
      "source": [
        "\n",
        "# Chart - 8 visualization code\n",
        "\n",
        "fig,ax = plt.subplots(1,3, figsize=(15,4))\n",
        "\n",
        "# Univariate analysis\n",
        "dist = sns.distplot(bike_df.snowfall, ax = ax[0])\n",
        "dist.set_title('Distribution Plot of Snowfall')\n",
        "\n",
        "# Bi-variate analysis \n",
        "# Rented Bike Count Vs Snowfall\n",
        "scatter = sns.scatterplot(data=bike_df, x='snowfall', y='rented_bike_count', ax = ax[1])\n",
        "scatter.set(xlabel='Snowfall', ylabel='Rented Bike Count', title='Scatter Plot of Rented Bike Count Vs Snowfall')\n",
        "\n",
        "# Line Plot\n",
        "group_snowfall = bike_df.groupby(['snowfall'])['rented_bike_count'].mean().reset_index()\n",
        "line = sns.lineplot(data = group_snowfall, x ='snowfall', y = 'rented_bike_count', ax= ax[2])\n",
        "line.set(xlabel='Snowfall', ylabel = ' Rented Bike Count', title='Average Bike Rented Vs Snowfall')\n",
        "\n",
        "plt.tight_layout()\n",
        "plt.show()"
      ],
      "metadata": {
        "id": "uPe378D9dnSj"
      },
      "execution_count": null,
      "outputs": []
    },
    {
      "cell_type": "markdown",
      "source": [
        "**Also creating a list of columns that can possibly contain outliers**"
      ],
      "metadata": {
        "id": "JBjBtjmqdsa6"
      }
    },
    {
      "cell_type": "code",
      "source": [
        "possible_outlier_cols = list(set(bike_df.describe().columns)-{'Rented Bike Count','Hour'})  \n",
        "\n",
        "possible_outlier_cols"
      ],
      "metadata": {
        "id": "79V_-uXmSfLt"
      },
      "execution_count": null,
      "outputs": []
    },
    {
      "cell_type": "code",
      "source": [
        "\n",
        "#Creating a boxplot to detect columns with outliers \n",
        "\n",
        "plt.figure(figsize=(25,25))\n",
        "for index,item in enumerate(possible_outlier_cols):\n",
        "  plt.subplot(5,6,index+1)\n",
        "  sns.boxplot(bike_df[item])\n"
      ],
      "metadata": {
        "id": "TdPTWpAVphqO"
      },
      "execution_count": null,
      "outputs": []
    },
    {
      "cell_type": "code",
      "source": [
        "#Creating a list of columns that contains outliers\n",
        "outlier_cols = ['Rainfall(mm)','Wind speed (m/s)','Snowfall (cm)','Solar Radiation (MJ/m2)']\n",
        "outlier_cols\n"
      ],
      "metadata": {
        "id": "tKb9ssdUYAvW"
      },
      "execution_count": null,
      "outputs": []
    },
    {
      "cell_type": "code",
      "source": [
        "Q1 = bike_df.quantile(0.25)\n",
        "Q3 = bike_df.quantile(0.75)\n",
        "IQR = Q3 - Q1\n",
        "print(IQR)\n",
        "\n",
        "\n"
      ],
      "metadata": {
        "id": "11KwWQ8TYAqp"
      },
      "execution_count": null,
      "outputs": []
    },
    {
      "cell_type": "code",
      "source": [
        "# listing features to remove outliers\n",
        "\n",
        "features = list(bike_df.columns)\n",
        "features = features[2:]\n",
        "list_0 = ['Hour','Seasons','Holiday','Functioning Day','month','year','week']\n",
        "new_features = [x for x in features if x not in list_0]"
      ],
      "metadata": {
        "id": "O_PWpEMKYAmL"
      },
      "execution_count": null,
      "outputs": []
    },
    {
      "cell_type": "code",
      "source": [
        "#Calculating the upper and lower fence for outlier removal\n",
        "u_fence = Q3 + (1.5*IQR)\n",
        "l_fence = Q1 - (1.5*IQR)\n"
      ],
      "metadata": {
        "id": "TO8KFYL6YAKs"
      },
      "execution_count": null,
      "outputs": []
    },
    {
      "cell_type": "code",
      "source": [
        "#Checking the number of outliers deleted\n",
        "bike_df.info()"
      ],
      "metadata": {
        "id": "hRYAttkDZVdU"
      },
      "execution_count": null,
      "outputs": []
    },
    {
      "cell_type": "markdown",
      "source": [
        "Due to outlier deletion, some null values have been created in these 5 columns.Now, we can either delete the observations with null values or impute them with some meaning full values. In this case I will be imputing them with the median value of each column.\n",
        "\n",
        "Note: Usually mean is chosen to impute null values, but I'll be choosing the median because mean is affected very much by outliers whereas the median is not."
      ],
      "metadata": {
        "id": "sGj5S8BraAV1"
      }
    },
    {
      "cell_type": "markdown",
      "source": [
        "##### 2. What is/are the insight(s) found from the chart?"
      ],
      "metadata": {
        "id": "eZrbJ2SmphqO"
      }
    },
    {
      "cell_type": "markdown",
      "source": [
        "*  Distribution of snowfall is highly skewed to the positive side.\n",
        "\n",
        "*  People prefer almost no or very less snowfall.\n",
        "\n",
        "*  Outliers"
      ],
      "metadata": {
        "id": "mZtgC_hjphqO"
      }
    },
    {
      "cell_type": "markdown",
      "source": [
        "#### Chart - 9"
      ],
      "metadata": {
        "id": "YJ55k-q6phqO"
      }
    },
    {
      "cell_type": "code",
      "source": [
        "# Chart - 9 visualization code\n",
        "numeric_features= bike_df.select_dtypes(exclude='object')\n",
        "\n"
      ],
      "metadata": {
        "id": "B2aS4O1ophqO"
      },
      "execution_count": null,
      "outputs": []
    },
    {
      "cell_type": "code",
      "source": [
        "numeric_features.describe().transpose()\n"
      ],
      "metadata": {
        "id": "f6kWnBQQbipQ"
      },
      "execution_count": null,
      "outputs": []
    },
    {
      "cell_type": "code",
      "source": [
        "for col in numeric_features[:]:                                                     #plotting histogram\n",
        "  sns.histplot(bike_df[col])\n",
        "  plt.axvline(bike_df[col].mean(), color='magenta', linestyle='dashed', linewidth=2)\n",
        "  plt.axvline(bike_df[col].median(), color='cyan', linestyle='dashed', linewidth=2)   \n",
        "  plt.show()"
      ],
      "metadata": {
        "id": "3WJwhSPsbImj"
      },
      "execution_count": null,
      "outputs": []
    },
    {
      "cell_type": "markdown",
      "source": [
        "##### 1. Why did you pick the specific chart?"
      ],
      "metadata": {
        "id": "gCFgpxoyphqP"
      }
    },
    {
      "cell_type": "markdown",
      "source": [
        "Answer Here."
      ],
      "metadata": {
        "id": "TVxDimi2phqP"
      }
    },
    {
      "cell_type": "markdown",
      "source": [
        "##### 2. What is/are the insight(s) found from the chart?"
      ],
      "metadata": {
        "id": "OVtJsKN_phqQ"
      }
    },
    {
      "cell_type": "markdown",
      "source": [
        "*  skew = measure of asymmetry of a distribution\n",
        "\n",
        "*  kurtosis = quantify shape of a distribution\n",
        "\n",
        "*  For numerical features, we can see that the majority of distributions are right-skewed. \n",
        "\n",
        "*  The distribution of rainfall, snowfall, and solar radiation is highly skewed to the right. It demonstrates that these columns have many outliers. Some columns are negatively skewed.\n",
        "\n",
        "*  Some of the variables can get a normal distribution when outliers are removed. \n",
        "\n",
        "*  As a result, it appears that outliers should be removed before the transformation. \n",
        "\n",
        "*  First, we will get rid of outliers, and then we check to see if we need to use the transformation technique again."
      ],
      "metadata": {
        "id": "ngGi97qjphqQ"
      }
    },
    {
      "cell_type": "markdown",
      "source": [
        "##### 3. Will the gained insights help creating a positive business impact? \n",
        "Are there any insights that lead to negative growth? Justify with specific reason."
      ],
      "metadata": {
        "id": "lssrdh5qphqQ"
      }
    },
    {
      "cell_type": "markdown",
      "source": [
        "Answer Here"
      ],
      "metadata": {
        "id": "tBpY5ekJphqQ"
      }
    },
    {
      "cell_type": "markdown",
      "source": [
        "#### Chart - 10"
      ],
      "metadata": {
        "id": "U2RJ9gkRphqQ"
      }
    },
    {
      "cell_type": "code",
      "source": [
        "# Chart - 10 visualization code\n",
        "\n",
        "# ploting Regression plot of each columns of dataset v/s rented bike count columns\n",
        "\n",
        "for col in numeric_features[:]:\n",
        "  if col == 'Rented Bike Count':\n",
        "    pass\n",
        "  else:\n",
        "    sns.regplot(x=bike_df[col],y=bike_df[\"rented_bike_count\"],line_kws={\"color\": \"red\"})\n",
        "  \n",
        "  plt.show()\n"
      ],
      "metadata": {
        "id": "GM7a4YP4phqQ"
      },
      "execution_count": null,
      "outputs": []
    },
    {
      "cell_type": "code",
      "source": [
        "# Regression Plots with respect to Temperature, Humidity and Windspeed\n",
        "fig = plt.figure(figsize=(18, 8))\n",
        "axes = fig.add_subplot(1, 3, 1)\n",
        "sns.regplot(data=bike_df, x='temperature', y='month',ax=axes)\n",
        "axes.set(title='Reg Plot for Temperature vs. month')\n",
        "axes = fig.add_subplot(1, 3, 2)\n",
        "sns.regplot(data=bike_df, x='humidity', y='month',ax=axes, color='r')\n",
        "axes.set(title='Reg Plot for Humidity vs. month')\n",
        "axes = fig.add_subplot(1, 3, 3)\n",
        "sns.regplot(data=bike_df, x='wind_speed', y='month',ax=axes, color='g')\n",
        "axes.set(title='Reg Plot for Windspeed vs. month')\n",
        "plt.show()"
      ],
      "metadata": {
        "id": "r1GM6fWmhc8c"
      },
      "execution_count": null,
      "outputs": []
    },
    {
      "cell_type": "code",
      "source": [
        "bike_df.info()"
      ],
      "metadata": {
        "id": "uG-RMp36jXgP"
      },
      "execution_count": null,
      "outputs": []
    },
    {
      "cell_type": "markdown",
      "source": [
        "##### 1. Why did you pick the specific chart?"
      ],
      "metadata": {
        "id": "1M8mcRywphqQ"
      }
    },
    {
      "cell_type": "markdown",
      "source": [
        "A regression model is able to show whether changes observed in the dependent variable are associated with changes in one or more of the explanatory variables."
      ],
      "metadata": {
        "id": "8agQvks0phqQ"
      }
    },
    {
      "cell_type": "markdown",
      "source": [
        "##### 2. What is/are the insight(s) found from the chart?"
      ],
      "metadata": {
        "id": "tgIPom80phqQ"
      }
    },
    {
      "cell_type": "markdown",
      "source": [
        "*  We will use a regression plot to find this correlation. This also finds if the independent variable has a linear relationship with the dependent variable, which is an assumption that has to be satisfied for models like linear regression.\n",
        "\n",
        "*  We can see that all the remaining columns that we have, have a linear relationship with the dependent variable. So we have satisfied the assumption and therefore we are good to go.\n"
      ],
      "metadata": {
        "id": "Qp13pnNzphqQ"
      }
    },
    {
      "cell_type": "markdown",
      "source": [
        "##### 3. Will the gained insights help creating a positive business impact? \n",
        "Are there any insights that lead to negative growth? Justify with specific reason."
      ],
      "metadata": {
        "id": "JMzcOPDDphqR"
      }
    },
    {
      "cell_type": "markdown",
      "source": [
        "\n",
        "The goal of feature engineering is to extract relevant information from the raw data and represent it in a way that can be easily understood by the machine learning model. The success of a machine learning model depends heavily on the quality of the features used as inputs, so feature engineering plays an important role in model performance."
      ],
      "metadata": {
        "id": "R4Ka1PC2phqR"
      }
    },
    {
      "cell_type": "markdown",
      "source": [
        "#### Chart - 11"
      ],
      "metadata": {
        "id": "x-EpHcCOp1ci"
      }
    },
    {
      "cell_type": "code",
      "source": [
        "# Chart - 11 visualization code\n",
        "#Extracting categorical features\n",
        "\n",
        "categorical_features= bike_df.select_dtypes(include='object')\n"
      ],
      "metadata": {
        "id": "mAQTIvtqp1cj"
      },
      "execution_count": null,
      "outputs": []
    },
    {
      "cell_type": "code",
      "source": [
        "#Creating function to return all the unique values each categorical column can have\n",
        "def cat_unique_vals(cat_cols,bike_df):\n",
        "  for col in cat_cols:\n",
        "    print(\"The values that the categorical column\",col,\"can take are:\",bike_df[col].unique())"
      ],
      "metadata": {
        "id": "V14-9qpvo987"
      },
      "execution_count": null,
      "outputs": []
    },
    {
      "cell_type": "code",
      "source": [
        "#Checking the possible values important and meaningful categorical columns can have.\n",
        "categorical_columns=['seasons','holiday']\n",
        "cat_unique_vals(categorical_columns,bike_df)"
      ],
      "metadata": {
        "id": "KywDNLaoo93T"
      },
      "execution_count": null,
      "outputs": []
    },
    {
      "cell_type": "markdown",
      "source": [
        "If feature has more than 35 categories we will consider it\n",
        "as numerical_features, remaining features will be added to categorical_features.\n",
        "'''"
      ],
      "metadata": {
        "id": "d765tSLDqxvY"
      }
    },
    {
      "cell_type": "code",
      "source": [
        "#Creating a function that performs a groupby operation and returns a dataframe for analysis\n",
        "def create_df_analysis(col):\n",
        "  return bike_df.groupby(col)['rented_bike_count'].sum().reset_index()"
      ],
      "metadata": {
        "id": "J8XNV_-spWj8"
      },
      "execution_count": null,
      "outputs": []
    },
    {
      "cell_type": "code",
      "source": [
        "seasons_col = create_df_analysis('seasons')\n",
        "seasons_col"
      ],
      "metadata": {
        "id": "e1hVBFDlpWYD"
      },
      "execution_count": null,
      "outputs": []
    },
    {
      "cell_type": "code",
      "source": [
        "#Creating a visualisation for the seasons column\n",
        "plt.figure(figsize=(10,7))\n",
        "splot = sns.barplot(data=seasons_col,x='seasons',y='rented_bike_count')\n",
        "for p in splot.patches:\n",
        "    splot.annotate(format(p.get_height(), '.1f'), \n",
        "                   (p.get_x() + p.get_width() / 2., p.get_height()), \n",
        "                   ha = 'center', va = 'center', \n",
        "                   xytext = (0, 9), \n",
        "                   textcoords = 'offset points')\n",
        "plt.xlabel(\"seasons\", size=14)\n",
        "plt.ylabel(\"rented_bike_count\", size=14)\n",
        "plt.show()"
      ],
      "metadata": {
        "id": "KaBUSo22pWJj"
      },
      "execution_count": null,
      "outputs": []
    },
    {
      "cell_type": "code",
      "source": [
        "bike_df"
      ],
      "metadata": {
        "id": "aee1a2keo9wm"
      },
      "execution_count": null,
      "outputs": []
    },
    {
      "cell_type": "code",
      "source": [
        "categorical_features"
      ],
      "metadata": {
        "id": "vI-Gz5RNc10p"
      },
      "execution_count": null,
      "outputs": []
    },
    {
      "cell_type": "code",
      "source": [
        "#ploting Box plot to visualize and trying to get information from plot\n",
        "for col in categorical_features:\n",
        "  plt.figure(figsize=(8,8))\n",
        "  sns.boxplot(x=bike_df[col],y=bike_df[\"rented_bike_count\"])\n",
        "  plt.show()"
      ],
      "metadata": {
        "id": "1fLl0kVRc7mH"
      },
      "execution_count": null,
      "outputs": []
    },
    {
      "cell_type": "markdown",
      "source": [
        "There are several encoding techniques, including:\n",
        "\n",
        "One-hot encoding: creates a binary column for each unique category, with a value of 1 indicating the presence of the category and 0 indicating the absence.\n",
        "Label encoding: assigns a unique integer value to each category.\n",
        "\n",
        "Ordinal encoding: assigns an ordered integer value to each category based on the natural ordering of the categories.\n",
        "\n",
        "Count encoding: replaces a categorical value with the number of times it appears in the dataset.\n",
        "\n"
      ],
      "metadata": {
        "id": "aE3LE8e5q7oX"
      }
    },
    {
      "cell_type": "markdown",
      "source": [
        "##### 1. Why did you pick the specific chart?"
      ],
      "metadata": {
        "id": "X_VqEhTip1ck"
      }
    },
    {
      "cell_type": "markdown",
      "source": [
        "Box plots are useful as they provide a visual summary of the data enabling researchers to quickly identify mean values, the dispersion of the data set, and signs of skewness"
      ],
      "metadata": {
        "id": "-vsMzt_np1ck"
      }
    },
    {
      "cell_type": "markdown",
      "source": [
        "##### 2. What is/are the insight(s) found from the chart?"
      ],
      "metadata": {
        "id": "8zGJKyg5p1ck"
      }
    },
    {
      "cell_type": "markdown",
      "source": [
        "Machine learning models can only work with numerical values and therefore important categorical columns have to converted/encoded into numerical variables. This process is known as Feature Encoding"
      ],
      "metadata": {
        "id": "ZYdMsrqVp1ck"
      }
    },
    {
      "cell_type": "markdown",
      "source": [
        "#### Chart - 12 functioning day"
      ],
      "metadata": {
        "id": "n3dbpmDWp1ck"
      }
    },
    {
      "cell_type": "code",
      "source": [
        "# Chart - 12 visualization code\n",
        "\n",
        "fig,ax = plt.subplots(1,3, figsize=(15,4))\n",
        "\n",
        "# Univariate analysis\n",
        "count = sns.countplot(data=bike_df, x='functioning_day', ax=ax[0])\n",
        "count.set_title('Count Plot of Functioning Day')\n",
        "\n",
        "# adding value count on the top of bar\n",
        "for p in count.patches:\n",
        "    count.annotate(format(p.get_height(), '.0f'), (p.get_x(), p.get_height()))\n",
        "\n",
        "# Bi-variate analysis \n",
        "# Rented Bike Count Vs Functioning Day\n",
        "bar = sns.barplot(data=bike_df, x='functioning_day', y='rented_bike_count', ax = ax[1])\n",
        "bar.set(xlabel='Functioning Day', ylabel='Rented Bike Count', title='Rented Bike Count Vs Functioning Day')\n",
        "\n",
        "# Multi-variate analysis\n",
        "cat = sns.barplot(data=bike_df, x='functioning_day', y='rented_bike_count', hue='session', ax= ax[2])\n",
        "cat.set(xlabel='Functioning Day', ylabel = ' Rented Bike Count', title='Average Bike Rented Vs Functioning Day with session')\n",
        "\n",
        "plt.tight_layout()\n",
        "plt.show()"
      ],
      "metadata": {
        "id": "bwevp1tKp1ck"
      },
      "execution_count": null,
      "outputs": []
    },
    {
      "cell_type": "markdown",
      "source": [
        "If it is a non Functioning_Day, total bike rented count is zero. Therefore, taking two approach to see which can give better result. First, with taking all values, secondly by removing nonfunctioning day value and then removing entire column. But, before taking any step it is better to find correlation of the column with our target( Rented_Bike_Count) column."
      ],
      "metadata": {
        "id": "Ia_UfTIGtEME"
      }
    },
    {
      "cell_type": "markdown",
      "source": [
        "##### 1. Why did you pick the specific chart?"
      ],
      "metadata": {
        "id": "ylSl6qgtp1ck"
      }
    },
    {
      "cell_type": "markdown",
      "source": [
        "In creative writing, a subplot can reveal more about secondary characters, create plot twists, and add another dimension to a story. Most importantly, a good subplot raises the stakes for a main character"
      ],
      "metadata": {
        "id": "m2xqNkiQp1ck"
      }
    },
    {
      "cell_type": "markdown",
      "source": [
        "##### 2. What is/are the insight(s) found from the chart?"
      ],
      "metadata": {
        "id": "ZWILFDl5p1ck"
      }
    },
    {
      "cell_type": "markdown",
      "source": [
        "*  Dataset has more records of Functioning Day than no functioning day which is obvious as most of the days are working days.\n",
        "\n",
        "*  Even though we have some counts of no functioning days still there is no bike rented on a no functioning day.\n",
        "\n",
        "*  On a functioning day, the evening session has the most rented bike count."
      ],
      "metadata": {
        "id": "x-lUsV2mp1ck"
      }
    },
    {
      "cell_type": "markdown",
      "source": [
        "##### 3. Will the gained insights help creating a positive business impact? \n",
        "Are there any insights that lead to negative growth? Justify with specific reason."
      ],
      "metadata": {
        "id": "M7G43BXep1ck"
      }
    },
    {
      "cell_type": "markdown",
      "source": [
        "*  Less demand on winter seasons\n",
        "\n",
        "*  Sligthly Higher demand during Non holidays\n",
        "\n",
        "*  Almost no demnad on non functioning day\n",
        "\n"
      ],
      "metadata": {
        "id": "5wwDJXsLp1cl"
      }
    },
    {
      "cell_type": "markdown",
      "source": [
        "#### Chart - 13 - Correlation Heatmap"
      ],
      "metadata": {
        "id": "NC_X3p0fY2L0"
      }
    },
    {
      "cell_type": "code",
      "source": [
        "# Correlation Heatmap visualization code\n",
        "\n",
        "# Heatmap relative to all numeric columns\n",
        "corr_matrix = bike_df.corr()\n",
        "mask = np.array(corr_matrix)\n",
        "mask[np.tril_indices_from(mask)] = False\n",
        "\n",
        "fig = plt.figure(figsize=(10, 10))\n",
        "sns.heatmap(corr_matrix, mask=mask, annot=True, cbar=True, vmax=0.8, vmin=-0.8, cmap='RdYlGn')\n",
        "plt.show()\n"
      ],
      "metadata": {
        "id": "xyC9zolEZNRQ"
      },
      "execution_count": null,
      "outputs": []
    },
    {
      "cell_type": "code",
      "source": [
        "df1['Temperature(°C)'] = df1['Temperature(°C)'].fillna(df1['Temperature(°C)'].mean())\n",
        "df1['Humidity(%)'] = df1['Humidity(%)'].fillna(df1['Humidity(%)'].mean())\n",
        "df1['Wind speed (m/s)'] = df1['Wind speed (m/s)'].fillna(df1['Wind speed (m/s)'].mean())\n",
        "df1['Visibility (10m)'] = df1['Visibility (10m)'].fillna(df1['Visibility (10m)'].mean())\n",
        "df1['Dew point temperature(°C)'] = df1['Dew point temperature(°C)'].fillna(df1['Dew point temperature(°C)'].mean())\n",
        "df1['Solar Radiation (MJ/m2)'] = df1['Solar Radiation (MJ/m2)'].fillna(df1['Solar Radiation (MJ/m2)'].mean())\n",
        "df1['Rainfall(mm)'] = df1['Rainfall(mm)'].fillna(df1['Rainfall(mm)'].mean())\n",
        "df1['Snowfall (cm)'] = df1['Snowfall (cm)'].fillna(df1['Snowfall (cm)'].mean())\n",
        "\n"
      ],
      "metadata": {
        "id": "UZy_QgsKjtSv"
      },
      "execution_count": null,
      "outputs": []
    },
    {
      "cell_type": "code",
      "source": [
        "# extracting correlation heatmap\n",
        "\n",
        "plt.figure(figsize=(10,8))\n",
        "sns.heatmap(df1.corr('pearson'),vmin=-1, vmax=1,cmap='coolwarm',annot=True, square=True)"
      ],
      "metadata": {
        "id": "HA7ehTbbjvgc"
      },
      "execution_count": null,
      "outputs": []
    },
    {
      "cell_type": "markdown",
      "source": [
        "##### 1. Why did you pick the specific chart?"
      ],
      "metadata": {
        "id": "UV0SzAkaZNRQ"
      }
    },
    {
      "cell_type": "markdown",
      "source": [
        "A resource heatmap allows project managers and all individuals involved to identify which resources are overloaded or under-utilized, and which tasks or assignments need more resources. This makes resource planning more efficient and optimized, without taking a lot of time in analysis."
      ],
      "metadata": {
        "id": "DVPuT8LYZNRQ"
      }
    },
    {
      "cell_type": "markdown",
      "source": [
        "##### 2. What is/are the insight(s) found from the chart?"
      ],
      "metadata": {
        "id": "YPEH6qLeZNRQ"
      }
    },
    {
      "cell_type": "markdown",
      "source": [
        "temp (true temperature) and atemp (feels like temperature) are highly correlated as expected\n",
        "\n",
        "count is highly correlated with casual and registered as expected since count = casual + registered\n",
        "\n",
        "We see a positive correlation between count and temperature (as was seen in the regplot). This is probably only true for the range of temperatures provided\n",
        "\n",
        "We see a negative correlation between count and humidity. The more the humidity, the less people prefer to bike\n",
        "\n",
        "Not a great amount of correlation between humidity and temperature, though\n",
        "Count has a weak dependence on windspeed\n",
        "\n",
        "The correlation coefficient is a numerical measure of the strength and direction of a linear relationship between two variables. In other words, it measures the extent to which changes in one variable are associated with changes in the other variable. The correlation coefficient ranges from -1 to 1, with -1 indicating a perfect negative correlation, 1 indicating a perfect positive correlation, and 0 indicating no correlation.\n",
        "\n",
        "The correlation coefficient is an important tool in data analysis and machine learning, as it can help to identify relationships between variables and can be used in feature selection techniques to remove highly correlated features, which can reduce overfitting and improve the performance of the model."
      ],
      "metadata": {
        "id": "bfSqtnDqZNRR"
      }
    },
    {
      "cell_type": "markdown",
      "source": [
        "#### Chart - 14 - Pair Plot "
      ],
      "metadata": {
        "id": "q29F0dvdveiT"
      }
    },
    {
      "cell_type": "code",
      "source": [
        "# Pair Plot visualization code\n",
        "bike_df"
      ],
      "metadata": {
        "id": "o58-TEIhveiU"
      },
      "execution_count": null,
      "outputs": []
    },
    {
      "cell_type": "code",
      "source": [
        "bike_df.hist(bins=50, figsize=(20,15))\n",
        "plt.tight_layout()\n",
        "plt.show()"
      ],
      "metadata": {
        "id": "WU4aiKddE6yq"
      },
      "execution_count": null,
      "outputs": []
    },
    {
      "cell_type": "code",
      "source": [
        "sns.set_style('darkgrid')\n"
      ],
      "metadata": {
        "id": "NI2DZKwqE6cG"
      },
      "execution_count": null,
      "outputs": []
    },
    {
      "cell_type": "code",
      "source": [
        "sns.pairplot(bike_df)"
      ],
      "metadata": {
        "id": "7KXdL3v_E6XY"
      },
      "execution_count": null,
      "outputs": []
    },
    {
      "cell_type": "markdown",
      "source": [
        "##### 1. Why did you pick the specific chart?"
      ],
      "metadata": {
        "id": "EXh0U9oCveiU"
      }
    },
    {
      "cell_type": "markdown",
      "source": [
        "Pair plots are a great method to identify trends for follow-up analysis and, fortunately, are easily implemented in Python! "
      ],
      "metadata": {
        "id": "eMmPjTByveiU"
      }
    },
    {
      "cell_type": "markdown",
      "source": [
        "##### 2. What is/are the insight(s) found from the chart?"
      ],
      "metadata": {
        "id": "22aHeOlLveiV"
      }
    },
    {
      "cell_type": "markdown",
      "source": [
        "The Seaborn Pairplot function allows the users to create an axis grid via which each numerical variable stored in data is shared across the X- and Y-axis in the structure of columns and rows. We can create the Scatter plots in order to display the pairwise relationships in addition to the distribution plot displaying the data distribution in the column diagonally."
      ],
      "metadata": {
        "id": "uPQ8RGwHveiV"
      }
    },
    {
      "cell_type": "markdown",
      "source": [
        "## **5. Solution to Business Objective**"
      ],
      "metadata": {
        "id": "JcMwzZxoAimU"
      }
    },
    {
      "cell_type": "markdown",
      "source": [
        "#### What do you suggest the client to achieve Business Objective ? \n",
        "Explain Briefly."
      ],
      "metadata": {
        "id": "8G2x9gOozGDZ"
      }
    },
    {
      "cell_type": "markdown",
      "source": [
        "Limitations and Scope for Future Work\n",
        "\n",
        "Below are few limitations in this analysis and ideas to improve model prediction accuracy\n",
        "\n",
        "*  Since casual + registered = total count, we just predicted the total bike rental count by ignoring the casual and registered user information. Another (possibly better) method would be to train separate models for casual and registered users and add the two\n",
        "\n",
        "*  One limitation in the provided training data set is that it lacked data with extreme weather condition data (weather = 4). Hence we had to modify it to weather = 3\n",
        "\n",
        "*  Windspeed wasnt used due to very low correlation. This might have been due to several instances where windspeed = 0. One possible method could be to first estimate those windspeed and then use it as a feature to estimate count."
      ],
      "metadata": {
        "id": "pASKb0qOza21"
      }
    },
    {
      "cell_type": "markdown",
      "source": [
        "# **Conclusion**"
      ],
      "metadata": {
        "id": "gCX9965dhzqZ"
      }
    },
    {
      "cell_type": "markdown",
      "source": [
        "Here are some solutions to manage Bike Sharing Demand.\n",
        "\n",
        "*  The majority of rentals are for daily commutes to workplaces and colleges. Therefore open additional stations near these landmarks to reach their primary customers.\n",
        "\n",
        "*  While planning for extra bikes to stations the peak rental hours must be considered, i.e. 7–9 am and 5–6 pm.\n",
        "\n",
        "*  Maintenance activities for bikes should be done at night due to the low usage of bikes during the night time. Removing some bikes from the streets at night time will not cause trouble for the customers.\n",
        "\n",
        "*  We see 2 rental patterns across the day in bike rental count - first for a Working Day where the rental count is high at peak office hours (8 am and 5 pm) and the second for a Non-working day where the rental count is more or less uniform across the day with a peak at around noon.\n",
        "\n",
        "*  Hour of the day: Bike rental count is mostly correlated with the time of the day. As indicated above, the count reaches a high point during peak hours on a working day and is mostly uniform during the day on a non-working day.\n",
        "\n",
        "*  Temperature: People generally prefer to bike at moderate to high temperatures. We see the highest rental counts between 32 to 36 degrees Celcius\n",
        "Season: We see the highest number of bike rentals in the Spring (July to September) and Summer (April to June) Seasons and the lowest in the Winter (January to March) season.\n",
        "\n",
        "*  Weather: As one would expect, we see the highest number of bike rentals on a clear day and the lowest on a snowy or rainy day\n",
        "\n",
        "*  Humidity: With increasing humidity, we see a decrease in the bike rental count.\n",
        "\n",
        "*  I have chosen the Light GBM model which is above all else I want better expectations for the rented_bike_count and time isn't compelling here. As a result, various linear models, decision trees, Random Forests, and Gradient Boost techniques were used to improve accuracy. I compared R2 metrics to choose a model.\n",
        "\n",
        "*  Due to less no. of data in the dataset, the training R2 score is around 99% and the test R2 score is 92.5%. Once we get more data we can retrain our algorithm for better performance."
      ],
      "metadata": {
        "id": "Fjb1IsQkh3yE"
      }
    },
    {
      "cell_type": "markdown",
      "source": [
        "### ***Hurrah! You have successfully completed your EDA Capstone Project !!!***"
      ],
      "metadata": {
        "id": "gIfDvo9L0UH2"
      }
    }
  ]
}